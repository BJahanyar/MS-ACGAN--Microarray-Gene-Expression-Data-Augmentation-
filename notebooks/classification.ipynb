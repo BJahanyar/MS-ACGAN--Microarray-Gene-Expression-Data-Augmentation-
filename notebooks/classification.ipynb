{
 "cells": [
  {
   "cell_type": "code",
   "execution_count": 1,
   "id": "9fbb2ed5",
   "metadata": {},
   "outputs": [],
   "source": [
    "from dataloader.raw_data_loader import *"
   ]
  },
  {
   "cell_type": "code",
   "execution_count": 2,
   "id": "49bc07e0",
   "metadata": {},
   "outputs": [
    {
     "name": "stderr",
     "output_type": "stream",
     "text": [
      "/media/omidsa75/70A808C7A8088E32/PYTHON/Projects/JahanYar/dataloader/raw_data_loader.py:23: DtypeWarning: Columns (1,2,3,4,5,6,7,8,9,10,11,12,13,14,15,16,17,18,19,20,21,22,23,24,25,26,27,28,29,30,31,32,33,34,35,36,37,38,39,40,41,42,43,44,45,46,47,48,49,50,51) have mixed types.Specify dtype option on import or set low_memory=False.\n",
      "  x, y = self.load_data(path)\n"
     ]
    }
   ],
   "source": [
    "x, y = raw_dataloader_generator(GenomeCancerLoader(), 'dataset/6_51.csv')"
   ]
  },
  {
   "cell_type": "code",
   "execution_count": 3,
   "id": "61443ba0",
   "metadata": {},
   "outputs": [
    {
     "data": {
      "text/plain": [
       "(array([0, 1], dtype=uint32), array([29, 22]))"
      ]
     },
     "execution_count": 3,
     "metadata": {},
     "output_type": "execute_result"
    }
   ],
   "source": [
    "import numpy as np\n",
    "np.unique(y, return_counts=True)"
   ]
  },
  {
   "cell_type": "code",
   "execution_count": 4,
   "id": "7aa7474b",
   "metadata": {},
   "outputs": [],
   "source": [
    "train_option = dict(\n",
    "    hidden_layer_size=[128, 64, 32],\n",
    "    batch_size=32,\n",
    "    learning_rate=0.01,\n",
    "    neural_network_max_iter=200,\n",
    "    n_splits=5,\n",
    ")"
   ]
  },
  {
   "cell_type": "markdown",
   "id": "d18d4653",
   "metadata": {},
   "source": [
    "## Train without preprocessing"
   ]
  },
  {
   "cell_type": "code",
   "execution_count": 5,
   "id": "2aa143cb",
   "metadata": {},
   "outputs": [],
   "source": [
    "from algorithms import multiple_model_training"
   ]
  },
  {
   "cell_type": "code",
   "execution_count": 6,
   "id": "fb431419",
   "metadata": {},
   "outputs": [
    {
     "name": "stdout",
     "output_type": "stream",
     "text": [
      "SVC\n",
      "{   'fit_time': array([0.09030366, 0.11092162, 0.10325098, 0.09009385, 0.0956552 ]),\n",
      "    'score_time': array([0.03890371, 0.03064203, 0.02546334, 0.02732325, 0.02885175]),\n",
      "    'test_score': array([0.72727273, 0.6       , 0.4       , 0.7       , 0.4       ])}\n"
     ]
    },
    {
     "name": "stderr",
     "output_type": "stream",
     "text": [
      "/home/omidsa75/anaconda3/envs/p38/lib/python3.8/site-packages/sklearn/linear_model/_logistic.py:763: ConvergenceWarning: lbfgs failed to converge (status=1):\n",
      "STOP: TOTAL NO. of ITERATIONS REACHED LIMIT.\n",
      "\n",
      "Increase the number of iterations (max_iter) or scale the data as shown in:\n",
      "    https://scikit-learn.org/stable/modules/preprocessing.html\n",
      "Please also refer to the documentation for alternative solver options:\n",
      "    https://scikit-learn.org/stable/modules/linear_model.html#logistic-regression\n",
      "  n_iter_i = _check_optimize_result(\n",
      "/home/omidsa75/anaconda3/envs/p38/lib/python3.8/site-packages/sklearn/linear_model/_logistic.py:763: ConvergenceWarning: lbfgs failed to converge (status=1):\n",
      "STOP: TOTAL NO. of ITERATIONS REACHED LIMIT.\n",
      "\n",
      "Increase the number of iterations (max_iter) or scale the data as shown in:\n",
      "    https://scikit-learn.org/stable/modules/preprocessing.html\n",
      "Please also refer to the documentation for alternative solver options:\n",
      "    https://scikit-learn.org/stable/modules/linear_model.html#logistic-regression\n",
      "  n_iter_i = _check_optimize_result(\n",
      "/home/omidsa75/anaconda3/envs/p38/lib/python3.8/site-packages/sklearn/linear_model/_logistic.py:763: ConvergenceWarning: lbfgs failed to converge (status=1):\n",
      "STOP: TOTAL NO. of ITERATIONS REACHED LIMIT.\n",
      "\n",
      "Increase the number of iterations (max_iter) or scale the data as shown in:\n",
      "    https://scikit-learn.org/stable/modules/preprocessing.html\n",
      "Please also refer to the documentation for alternative solver options:\n",
      "    https://scikit-learn.org/stable/modules/linear_model.html#logistic-regression\n",
      "  n_iter_i = _check_optimize_result(\n",
      "/home/omidsa75/anaconda3/envs/p38/lib/python3.8/site-packages/sklearn/linear_model/_logistic.py:763: ConvergenceWarning: lbfgs failed to converge (status=1):\n",
      "STOP: TOTAL NO. of ITERATIONS REACHED LIMIT.\n",
      "\n",
      "Increase the number of iterations (max_iter) or scale the data as shown in:\n",
      "    https://scikit-learn.org/stable/modules/preprocessing.html\n",
      "Please also refer to the documentation for alternative solver options:\n",
      "    https://scikit-learn.org/stable/modules/linear_model.html#logistic-regression\n",
      "  n_iter_i = _check_optimize_result(\n",
      "/home/omidsa75/anaconda3/envs/p38/lib/python3.8/site-packages/sklearn/linear_model/_logistic.py:763: ConvergenceWarning: lbfgs failed to converge (status=1):\n",
      "STOP: TOTAL NO. of ITERATIONS REACHED LIMIT.\n",
      "\n",
      "Increase the number of iterations (max_iter) or scale the data as shown in:\n",
      "    https://scikit-learn.org/stable/modules/preprocessing.html\n",
      "Please also refer to the documentation for alternative solver options:\n",
      "    https://scikit-learn.org/stable/modules/linear_model.html#logistic-regression\n",
      "  n_iter_i = _check_optimize_result(\n"
     ]
    },
    {
     "name": "stdout",
     "output_type": "stream",
     "text": [
      "LogisticRegression\n",
      "{   'fit_time': array([1.18171573, 1.1580267 , 1.17685628, 1.28670597, 1.21881342]),\n",
      "    'score_time': array([0.00254416, 0.00236011, 0.00200844, 0.00200629, 0.00180912]),\n",
      "    'test_score': array([0.54545455, 0.8       , 0.7       , 0.6       , 0.8       ])}\n",
      "KNeighborClassifier\n",
      "{   'fit_time': array([0.00410748, 0.00545239, 0.00375867, 0.00631976, 0.00659537]),\n",
      "    'score_time': array([0.0164721 , 0.01189065, 0.0134151 , 0.02113795, 0.01313329]),\n",
      "    'test_score': array([0.54545455, 0.6       , 0.9       , 0.7       , 0.7       ])}\n",
      "NeuralNetwork\n",
      "{   'fit_time': array([4.09365225, 4.68680429, 4.27329588, 4.57505202, 4.88372278]),\n",
      "    'score_time': array([0.00502491, 0.00599003, 0.00541639, 0.0067935 , 0.00510526]),\n",
      "    'test_score': array([0.45454545, 0.4       , 0.5       , 0.7       , 0.6       ])}\n"
     ]
    }
   ],
   "source": [
    "multiple_model_training(train_option, x, y)"
   ]
  },
  {
   "cell_type": "markdown",
   "id": "f5a9847a",
   "metadata": {},
   "source": [
    "## Train on normalize data"
   ]
  },
  {
   "cell_type": "code",
   "execution_count": 7,
   "id": "8208cb4f",
   "metadata": {},
   "outputs": [],
   "source": [
    "from sklearn.preprocessing import normalize"
   ]
  },
  {
   "cell_type": "markdown",
   "id": "fc231395",
   "metadata": {},
   "source": [
    "### Normalize along each sample"
   ]
  },
  {
   "cell_type": "code",
   "execution_count": 8,
   "id": "4a045aad",
   "metadata": {},
   "outputs": [],
   "source": [
    "x_normalize = normalize(x, axis=1)"
   ]
  },
  {
   "cell_type": "code",
   "execution_count": 9,
   "id": "f360106f",
   "metadata": {},
   "outputs": [
    {
     "name": "stdout",
     "output_type": "stream",
     "text": [
      "SVC\n",
      "{   'fit_time': array([0.12116909, 0.11705518, 0.10982132, 0.10227537, 0.10298753]),\n",
      "    'score_time': array([0.02865338, 0.03270173, 0.03246045, 0.0386579 , 0.0395937 ]),\n",
      "    'test_score': array([0.54545455, 0.6       , 0.6       , 0.6       , 0.5       ])}\n",
      "LogisticRegression\n",
      "{   'fit_time': array([0.25435162, 0.3156302 , 0.29172444, 0.18819046, 0.24595833]),\n",
      "    'score_time': array([0.00461149, 0.00490642, 0.01753902, 0.00224113, 0.00440764]),\n",
      "    'test_score': array([0.54545455, 0.5       , 0.7       , 0.6       , 0.5       ])}\n",
      "KNeighborClassifier\n",
      "{   'fit_time': array([0.00611496, 0.00510311, 0.00601578, 0.00568891, 0.0050652 ]),\n",
      "    'score_time': array([0.01911163, 0.01534605, 0.02209473, 0.01506972, 0.01854777]),\n",
      "    'test_score': array([0.63636364, 0.7       , 0.6       , 0.3       , 0.7       ])}\n",
      "NeuralNetwork\n",
      "{   'fit_time': array([5.4008081 , 5.32050562, 8.24706554, 7.38596463, 4.49463415]),\n",
      "    'score_time': array([0.00598049, 0.003824  , 0.0035758 , 0.00418615, 0.00508595]),\n",
      "    'test_score': array([0.36363636, 0.7       , 0.5       , 0.6       , 0.4       ])}\n"
     ]
    }
   ],
   "source": [
    "multiple_model_training(train_option, x_normalize, y)"
   ]
  },
  {
   "cell_type": "markdown",
   "id": "f0720120",
   "metadata": {},
   "source": [
    "### Normalize along each feature"
   ]
  },
  {
   "cell_type": "code",
   "execution_count": 10,
   "id": "85d11cb1",
   "metadata": {},
   "outputs": [],
   "source": [
    "x_normalize_feature = normalize(x, axis=0)"
   ]
  },
  {
   "cell_type": "code",
   "execution_count": 11,
   "id": "79472cd7",
   "metadata": {},
   "outputs": [
    {
     "name": "stdout",
     "output_type": "stream",
     "text": [
      "SVC\n",
      "{   'fit_time': array([0.10110998, 0.07572699, 0.07571507, 0.07471251, 0.07398176]),\n",
      "    'score_time': array([0.02595186, 0.02582026, 0.02570534, 0.02351069, 0.02911019]),\n",
      "    'test_score': array([1. , 0.7, 0.6, 0.5, 0.4])}\n",
      "LogisticRegression\n",
      "{   'fit_time': array([0.55032396, 0.3675952 , 0.40309429, 0.44765997, 0.42609096]),\n",
      "    'score_time': array([0.00243807, 0.00261927, 0.00223947, 0.00252819, 0.00205708]),\n",
      "    'test_score': array([0.54545455, 0.6       , 0.6       , 0.5       , 0.8       ])}\n",
      "KNeighborClassifier\n",
      "{   'fit_time': array([0.00367403, 0.00404739, 0.00352097, 0.00350308, 0.0035398 ]),\n",
      "    'score_time': array([0.01291966, 0.01222467, 0.01429987, 0.01139522, 0.01126146]),\n",
      "    'test_score': array([0.63636364, 0.6       , 0.7       , 0.6       , 0.8       ])}\n",
      "NeuralNetwork\n",
      "{   'fit_time': array([14.54986405, 11.00015545, 10.93730688,  9.83431482,  3.69782209]),\n",
      "    'score_time': array([0.00377679, 0.00383234, 0.00393724, 0.0037868 , 0.00617433]),\n",
      "    'test_score': array([0.45454545, 0.6       , 0.6       , 0.7       , 0.5       ])}\n"
     ]
    }
   ],
   "source": [
    "multiple_model_training(train_option, x_normalize_feature, y)"
   ]
  },
  {
   "cell_type": "markdown",
   "id": "3b427ade",
   "metadata": {},
   "source": [
    "## Train on Standard data"
   ]
  },
  {
   "cell_type": "code",
   "execution_count": 12,
   "id": "5f9b114b",
   "metadata": {},
   "outputs": [],
   "source": [
    "from sklearn.preprocessing import StandardScaler"
   ]
  },
  {
   "cell_type": "code",
   "execution_count": 13,
   "id": "664397e2",
   "metadata": {},
   "outputs": [],
   "source": [
    "scaler = StandardScaler()\n",
    "x_standard = scaler.fit_transform(x)"
   ]
  },
  {
   "cell_type": "code",
   "execution_count": 14,
   "id": "ad3c9cda",
   "metadata": {},
   "outputs": [
    {
     "name": "stdout",
     "output_type": "stream",
     "text": [
      "SVC\n",
      "{   'fit_time': array([0.13082194, 0.13262939, 0.16972804, 0.09148026, 0.08016443]),\n",
      "    'score_time': array([0.05664229, 0.08488441, 0.12368226, 0.06580615, 0.02826691]),\n",
      "    'test_score': array([0.63636364, 0.6       , 0.4       , 0.8       , 0.4       ])}\n",
      "LogisticRegression\n",
      "{   'fit_time': array([1.02918839, 0.72549939, 0.80992723, 0.84443116, 0.86737943]),\n",
      "    'score_time': array([0.00272083, 0.00513864, 0.00402761, 0.00268507, 0.00455117]),\n",
      "    'test_score': array([0.54545455, 0.6       , 0.4       , 0.7       , 0.7       ])}\n",
      "KNeighborClassifier\n",
      "{   'fit_time': array([0.00801015, 0.0081079 , 0.00738335, 0.00641537, 0.00380707]),\n",
      "    'score_time': array([0.02060866, 0.01854372, 0.0330925 , 0.01942801, 0.02052426]),\n",
      "    'test_score': array([0.54545455, 0.6       , 0.6       , 0.7       , 0.8       ])}\n",
      "NeuralNetwork\n",
      "{   'fit_time': array([6.65742564, 6.8887105 , 4.8937254 , 5.54372001, 5.59517121]),\n",
      "    'score_time': array([0.00663638, 0.00665116, 0.00373673, 0.00388956, 0.00371456]),\n",
      "    'test_score': array([0.90909091, 0.5       , 0.6       , 0.6       , 0.6       ])}\n"
     ]
    }
   ],
   "source": [
    "multiple_model_training(train_option, x_standard, y)"
   ]
  },
  {
   "cell_type": "markdown",
   "id": "0bfc9fc8",
   "metadata": {},
   "source": [
    "## Train on MinMax scaled data"
   ]
  },
  {
   "cell_type": "code",
   "execution_count": 15,
   "id": "24834607",
   "metadata": {},
   "outputs": [],
   "source": [
    "from sklearn.preprocessing import MinMaxScaler"
   ]
  },
  {
   "cell_type": "code",
   "execution_count": 16,
   "id": "cdc0e120",
   "metadata": {},
   "outputs": [],
   "source": [
    "minmax = MinMaxScaler()\n",
    "x_minmax = minmax.fit_transform(x)"
   ]
  },
  {
   "cell_type": "code",
   "execution_count": 17,
   "id": "20f57be8",
   "metadata": {},
   "outputs": [
    {
     "name": "stdout",
     "output_type": "stream",
     "text": [
      "SVC\n",
      "{   'fit_time': array([0.06840754, 0.07015967, 0.07837677, 0.07162499, 0.06100416]),\n",
      "    'score_time': array([0.02300239, 0.02490497, 0.023947  , 0.02552366, 0.0340414 ]),\n",
      "    'test_score': array([0.72727273, 0.7       , 0.2       , 0.6       , 0.8       ])}\n"
     ]
    },
    {
     "name": "stderr",
     "output_type": "stream",
     "text": [
      "/home/omidsa75/anaconda3/envs/p38/lib/python3.8/site-packages/sklearn/linear_model/_logistic.py:763: ConvergenceWarning: lbfgs failed to converge (status=1):\n",
      "STOP: TOTAL NO. of ITERATIONS REACHED LIMIT.\n",
      "\n",
      "Increase the number of iterations (max_iter) or scale the data as shown in:\n",
      "    https://scikit-learn.org/stable/modules/preprocessing.html\n",
      "Please also refer to the documentation for alternative solver options:\n",
      "    https://scikit-learn.org/stable/modules/linear_model.html#logistic-regression\n",
      "  n_iter_i = _check_optimize_result(\n",
      "/home/omidsa75/anaconda3/envs/p38/lib/python3.8/site-packages/sklearn/linear_model/_logistic.py:763: ConvergenceWarning: lbfgs failed to converge (status=1):\n",
      "STOP: TOTAL NO. of ITERATIONS REACHED LIMIT.\n",
      "\n",
      "Increase the number of iterations (max_iter) or scale the data as shown in:\n",
      "    https://scikit-learn.org/stable/modules/preprocessing.html\n",
      "Please also refer to the documentation for alternative solver options:\n",
      "    https://scikit-learn.org/stable/modules/linear_model.html#logistic-regression\n",
      "  n_iter_i = _check_optimize_result(\n"
     ]
    },
    {
     "name": "stdout",
     "output_type": "stream",
     "text": [
      "LogisticRegression\n",
      "{   'fit_time': array([0.49072146, 0.92812061, 0.62195134, 1.41386938, 1.06109715]),\n",
      "    'score_time': array([0.00235534, 0.0025332 , 0.00189662, 0.00384235, 0.00425911]),\n",
      "    'test_score': array([0.72727273, 0.8       , 0.7       , 0.8       , 0.6       ])}\n",
      "KNeighborClassifier\n",
      "{   'fit_time': array([0.00756598, 0.00605726, 0.0078752 , 0.00696564, 0.00831866]),\n",
      "    'score_time': array([0.02400494, 0.02213788, 0.02394199, 0.02493238, 0.02397156]),\n",
      "    'test_score': array([0.81818182, 0.9       , 0.6       , 0.3       , 0.7       ])}\n",
      "NeuralNetwork\n",
      "{   'fit_time': array([ 4.81524062,  5.29131746,  5.77955413, 13.89055991, 29.55958915]),\n",
      "    'score_time': array([0.00500679, 0.00582933, 0.00620961, 0.00609708, 0.00610805]),\n",
      "    'test_score': array([0.45454545, 0.2       , 0.6       , 0.7       , 0.9       ])}\n"
     ]
    }
   ],
   "source": [
    "multiple_model_training(train_option, x_minmax, y)"
   ]
  },
  {
   "cell_type": "markdown",
   "id": "b6f4e452",
   "metadata": {},
   "source": [
    "### clip to -1 to 1"
   ]
  },
  {
   "cell_type": "code",
   "execution_count": 18,
   "id": "471d9934",
   "metadata": {},
   "outputs": [],
   "source": [
    "minmax_ = MinMaxScaler(feature_range=(-1, 1))\n",
    "x_minmax_ = minmax_.fit_transform(x)"
   ]
  },
  {
   "cell_type": "code",
   "execution_count": 19,
   "id": "54c619df",
   "metadata": {},
   "outputs": [
    {
     "name": "stdout",
     "output_type": "stream",
     "text": [
      "SVC\n",
      "{   'fit_time': array([0.11869001, 0.10230947, 0.19111872, 0.1461606 , 0.13385034]),\n",
      "    'score_time': array([0.08448553, 0.06097627, 0.09659886, 0.07515764, 0.06168985]),\n",
      "    'test_score': array([0.54545455, 0.7       , 0.7       , 0.7       , 0.4       ])}\n",
      "LogisticRegression\n",
      "{   'fit_time': array([1.00731421, 0.63771987, 0.88249254, 0.94937015, 0.8526597 ]),\n",
      "    'score_time': array([0.00393271, 0.00345206, 0.00491214, 0.00396395, 0.00330162]),\n",
      "    'test_score': array([0.54545455, 0.7       , 0.8       , 0.6       , 0.7       ])}\n",
      "KNeighborClassifier\n",
      "{   'fit_time': array([0.01201463, 0.00749707, 0.00657344, 0.00665808, 0.00758576]),\n",
      "    'score_time': array([0.03192806, 0.02119923, 0.02177143, 0.0222187 , 0.02182031]),\n",
      "    'test_score': array([0.63636364, 0.6       , 0.6       , 0.8       , 0.7       ])}\n",
      "NeuralNetwork\n",
      "{   'fit_time': array([9.17791009, 8.87569618, 7.70566416, 8.61227345, 9.6985755 ]),\n",
      "    'score_time': array([0.00593472, 0.0175426 , 0.00620222, 0.00623512, 0.00704861]),\n",
      "    'test_score': array([0.81818182, 0.7       , 0.6       , 0.7       , 0.9       ])}\n"
     ]
    }
   ],
   "source": [
    "multiple_model_training(train_option, x_minmax_, y)"
   ]
  },
  {
   "cell_type": "code",
   "execution_count": null,
   "id": "c4f3dd33",
   "metadata": {},
   "outputs": [],
   "source": []
  }
 ],
 "metadata": {
  "kernelspec": {
   "display_name": "Python 3 (ipykernel)",
   "language": "python",
   "name": "python3"
  },
  "language_info": {
   "codemirror_mode": {
    "name": "ipython",
    "version": 3
   },
   "file_extension": ".py",
   "mimetype": "text/x-python",
   "name": "python",
   "nbconvert_exporter": "python",
   "pygments_lexer": "ipython3",
   "version": "3.8.11"
  }
 },
 "nbformat": 4,
 "nbformat_minor": 5
}
